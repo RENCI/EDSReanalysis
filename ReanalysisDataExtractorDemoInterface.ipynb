{
 "cells": [
  {
   "cell_type": "markdown",
   "id": "ed5d0726-35dd-4df2-9741-60c566f67de3",
   "metadata": {},
   "source": [
    "<center><img src=\"RENCI-Official-Logo-transparent.png\" width=400 height=100 />"
   ]
  },
  {
   "cell_type": "markdown",
   "id": "488d3352-cca5-4c29-9dc7-47b1ced02274",
   "metadata": {
    "tags": []
   },
   "source": [
    "<font size=\"5\">\n",
    "    <center>\n",
    "Timeseries Extraction Demonstration Notebook from the RENCI/NOAA 43-year reanalysis\n",
    "    \n",
    "        Version 0.2, 30 Aug 2022\n",
    "    Written by Jim McManus, Jeff Tilson, and Brian Blanton, RENCI\n",
    "    Funded by NOAA\n",
    "</font>"
   ]
  },
  {
   "cell_type": "markdown",
   "id": "63520f1d-5024-475c-bf7d-314092c6ab1f",
   "metadata": {},
   "source": [
    "<font size=\"4\">\n",
    "\n",
    "The Renaissance Computing Institute, in collaboration with NOAA's ..., is computing a high-resolution coastal reanalysis dataset using the ADCIRC storm surge, wind-wave, and tide model, and the ECMWF's ERA5 atmospheric reanalisys, spanning the period 1979-2021.  The resulting datasets are in the native ADCIRC/netCDF format, which can complicate working with the large datasets due to the triangular grid used by ADCIRC.  This notebook demostrates the use of a Python package that provides easy access to the datasets for water level and bulk wind wave parameters at user-specified lon/lat points. \n",
    "</font>\n",
    "<hr>"
   ]
  },
  {
   "cell_type": "markdown",
   "id": "fd88a93f-9802-4ad6-a95d-7c9dc7ce1d54",
   "metadata": {},
   "source": [
    "## Solution details\n",
    "The ADCIRC model is forced with tides from TPXO and ECMWF's ERA5 10-m wind velocities and sea level pressure.  The ERA5 annual datasets were subsetted to cover the ADCIRC HSOFS grid, shown here:\n",
    "<hr>"
   ]
  },
  {
   "cell_type": "markdown",
   "id": "8811f988-7d71-462a-8209-0bfc886d07ac",
   "metadata": {},
   "source": [
    "## User inputs\n",
    "The demonstration needs 3 inputs from the user, specified in the box below.\n",
    "1. Upload a csv file of lon, lat coordinates, with a header line that names the coordinate columns with \"lon\" and \"lat\".  The order does not matter. There are 4 example/test files in the testdata directory.\n",
    " * **NOAA_Stations_141.csv** contains 141 NOAA stations.  \n",
    " * **hsofs_200grid_lonlat.csv** contains a random selection of 200 nodes from the NOAA HSOFS ADCIRC grid.\n",
    " * **1point.csv** contains 1 point\n",
    " * **hsofs_2grid_lonlat.csv** contains 2 points, one \"on land\" and the other in water.  The process for the first point will result in all NaNs for the returned timeseries.\n",
    "2. Specify the variable to extract from the Reanalysis dataset.  The currently available variables are 'water level', 'wave height', 'wave period', 'wave direction'\n",
    "3. Specify the years to extract using the slider.  The year range is inclusive.\n",
    "\n",
    "Then, click the Submit button."
   ]
  },
  {
   "cell_type": "markdown",
   "id": "ffeb57f9-cd2d-466b-b0fc-e8d05ff9c581",
   "metadata": {},
   "source": [
    "### import the interface package and execute the interface class"
   ]
  },
  {
   "cell_type": "code",
   "execution_count": 1,
   "id": "28b856d9",
   "metadata": {},
   "outputs": [
    {
     "data": {
      "application/vnd.jupyter.widget-view+json": {
       "model_id": "915c710b5e99460e806ae0096729dec3",
       "version_major": 2,
       "version_minor": 0
      },
      "text/plain": [
       "HTML(value='\\n            <style>\\n                /* enlarges the default jupyter cell outputs, can revert by…"
      ]
     },
     "metadata": {},
     "output_type": "display_data"
    },
    {
     "data": {
      "application/vnd.jupyter.widget-view+json": {
       "model_id": "d2a0d1e8a64e42d0a5a8d256f8930ce8",
       "version_major": 2,
       "version_minor": 0
      },
      "text/plain": [
       "VBox(children=(Output(layout=Layout(width='500px')), HBox(children=(Output(_dom_classes=('o2',)), Output(_dom_…"
      ]
     },
     "metadata": {},
     "output_type": "display_data"
    }
   ],
   "source": [
    "# import the interface package and execute the interface class\n",
    "from reAnalysisInterface import demoInterface\n",
    "d = demoInterface()"
   ]
  },
  {
   "cell_type": "code",
   "execution_count": null,
   "id": "d8754894",
   "metadata": {},
   "outputs": [],
   "source": [
    "# Access DataFrame of data extracted for stations, outside of widgets\n",
    "print(d.df_product_data.head())\n",
    "\n",
    "d.df_product_data.plot()"
   ]
  },
  {
   "cell_type": "code",
   "execution_count": null,
   "id": "2d56e7eb",
   "metadata": {},
   "outputs": [],
   "source": [
    "# Access meta data DataFrame, outside of widgets\n",
    "#d.df_product_metadata.head()"
   ]
  },
  {
   "cell_type": "code",
   "execution_count": null,
   "id": "029ec7a0",
   "metadata": {},
   "outputs": [],
   "source": [
    "# Access DataFrame of excluded stations, outside of widgets\n",
    "#d.df_excluded.head()"
   ]
  }
 ],
 "metadata": {
  "kernelspec": {
   "display_name": "reanalysis3.8",
   "language": "python",
   "name": "reanalysis3.8"
  },
  "language_info": {
   "codemirror_mode": {
    "name": "ipython",
    "version": 3
   },
   "file_extension": ".py",
   "mimetype": "text/x-python",
   "name": "python",
   "nbconvert_exporter": "python",
   "pygments_lexer": "ipython3",
   "version": "3.8.10"
  }
 },
 "nbformat": 4,
 "nbformat_minor": 5
}
