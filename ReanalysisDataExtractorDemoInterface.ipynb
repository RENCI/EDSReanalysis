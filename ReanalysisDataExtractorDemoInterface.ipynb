{
 "cells": [
  {
   "cell_type": "markdown",
   "id": "fefb58d8",
   "metadata": {},
   "source": [
    "# Inteface to run the geopoints utility"
   ]
  },
  {
   "cell_type": "markdown",
   "id": "4a63cf7c",
   "metadata": {},
   "source": [
    "This is a demo interface that enables running of the geopoints function in the utilities module"
   ]
  },
  {
   "cell_type": "code",
   "execution_count": 1,
   "id": "28b856d9",
   "metadata": {},
   "outputs": [
    {
     "name": "stdout",
     "output_type": "stream",
     "text": [
      "utilities:Xarray Version = 2022.3.0\n"
     ]
    },
    {
     "data": {
      "application/vnd.jupyter.widget-view+json": {
       "model_id": "1ccb8c9b49584909b8f09927f2f006df",
       "version_major": 2,
       "version_minor": 0
      },
      "text/plain": [
       "HTML(value='\\n            <style>\\n                /* enlarges the default jupyter cell outputs, can revert by…"
      ]
     },
     "metadata": {},
     "output_type": "display_data"
    },
    {
     "data": {
      "application/vnd.jupyter.widget-view+json": {
       "model_id": "e66931a3d7784176a2e5a427ae8ba734",
       "version_major": 2,
       "version_minor": 0
      },
      "text/plain": [
       "VBox(children=(Output(layout=Layout(width='400px')), HBox(children=(Output(_dom_classes=('o2',)), Output(_dom_…"
      ]
     },
     "metadata": {},
     "output_type": "display_data"
    }
   ],
   "source": [
    "from reAnalysisInterface import demoInterface\n",
    "d = demoInterface()"
   ]
  },
  {
   "cell_type": "code",
   "execution_count": null,
   "id": "ccddb6b4",
   "metadata": {},
   "outputs": [],
   "source": []
  }
 ],
 "metadata": {
  "kernelspec": {
   "display_name": "Python 3 (ipykernel)",
   "language": "python",
   "name": "python3"
  },
  "language_info": {
   "codemirror_mode": {
    "name": "ipython",
    "version": 3
   },
   "file_extension": ".py",
   "mimetype": "text/x-python",
   "name": "python",
   "nbconvert_exporter": "python",
   "pygments_lexer": "ipython3",
   "version": "3.8.13"
  }
 },
 "nbformat": 4,
 "nbformat_minor": 5
}
