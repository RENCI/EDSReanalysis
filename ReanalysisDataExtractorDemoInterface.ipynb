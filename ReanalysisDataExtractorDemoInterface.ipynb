{
 "cells": [
  {
   "cell_type": "markdown",
   "id": "ed5d0726-35dd-4df2-9741-60c566f67de3",
   "metadata": {},
   "source": [
    "<center><img src=\"RENCI-Official-Logo-transparent.png\" width=400 height=100 />"
   ]
  },
  {
   "cell_type": "markdown",
   "id": "488d3352-cca5-4c29-9dc7-47b1ced02274",
   "metadata": {
    "tags": []
   },
   "source": [
    "<font size=\"5\">\n",
    "    <center>\n",
    "Timeseries Extraction Demonstration Notebook from the RENCI/NOAA 44-year reanalysis\n",
    "        \n",
    "    Version 3.0, 15 Nov 2024\n",
    "    Written by Brian O. Blanton, Jim M. McManus, and Jeffrey L. Tilson, RENCI\n",
    "    Funded by NOAA\n",
    "  \n",
    "</font>"
   ]
  },
  {
   "cell_type": "markdown",
   "id": "63520f1d-5024-475c-bf7d-314092c6ab1f",
   "metadata": {},
   "source": [
    "<hr>\n",
    "<font size=\"5\">\n",
    "    \n",
    "\n",
    "Project documentation is available at https://renci.github.io/edsreanalysisdoc/.\n",
    "\n",
    "<hr>\n",
    "\n",
    "Data Release notes:   \n",
    "\n",
    "* 3.00: V3.  Revision of the error model to correct a SLR issue.  This is CORA version 1.1.  Prior is same as V2.\n",
    "* 2.00: V2.       \n",
    "    \n",
    "* 1.01: fixes python code issue with missing values at year boundaries\n",
    "* 1.00: First Complete dataset\n",
    "* 0.90: Original draft release\n",
    "    \n",
    "<hr>\n",
    "    \n",
    "To immediately run the extractor interface:\n",
    "1. Read the User Inputs section on entering information into the interface.\n",
    "2. Click on the cell below with the \"from reAnalysisInterface import demoInterface\" line to make it active.\n",
    "3. Execute the cell by either clicking the \"run\" button above or  enter \"SHIFT+ENTER/RETURN\" on the keyboard (at least on a Mac).  \n",
    "4. Set the user inputs in the first UI panel.  \n",
    "5. Click Submit.\n",
    "\n",
    "Note that is currently not a progress bar.  If the notebook is working, the status will be marked as \"Busy\" in the lower left of the webpage.  Otherwise it is \"Idle\".     If the extraction finishes normally, the status will become Idle and the bottom row of the UI will have information.  If the extraction failed, the status will become Idle but the bottom UI row will be empty.  If the latter occurs, please contact Brian_Blanton@Renci.Org. \n",
    "\n",
    "The cell below the UI can be executed when/if the extraction is successful.  Make sure that that cell is active/highlighed by clicking on it. A blue vertical bar indicates the cell is active.  Executing this cell will make a simple plot of the extracted timeseries.  If there are many points and many years in the request, this plot can take quite a while.  \n",
    "    \n",
    "Initial testing of the extractor should probably use the 1point.csv file and only one year (the default below is 1979).\n",
    "</font>\n",
    "\n",
    "<hr>\n",
    "\n"
   ]
  },
  {
   "cell_type": "markdown",
   "id": "8811f988-7d71-462a-8209-0bfc886d07ac",
   "metadata": {},
   "source": [
    "## User inputs\n",
    "The demonstration needs 4 inputs from the user, specified in the upper left box below.  All except the point file have defaults.\n",
    "\n",
    "1. Upload a csv file of lon, lat coordinates, with a header line that names the coordinate columns with \"lon\" and \"lat\".  The order does not matter.  \n",
    "\n",
    "    There are 4 example/test files in the testdata directory.  In order to use a test file, nagivate to the \"testdata\" directory/folder on the left and download a file to your local computer.  **The notebook upload widget does not see the files in this notebook's folders.**  \n",
    "\n",
    " * **NOAA_Stations_141.csv** contains 141 NOAA stations.  \n",
    " * **hsofs_200grid_lonlat.csv** contains a random selection of 200 nodes from the NOAA HSOFS ADCIRC grid.\n",
    " * **1point.csv** contains 1 point\n",
    " * **hsofs_2grid_lonlat.csv** contains 2 points, one \"on land\" and the other in water.  The process for the first point will result in all NaNs for the returned timeseries.\n",
    "\n",
    "2. Specify the variable to extract:  **Default='Water Level'**.  The currently available variables are 'water level', 'wave height', 'wave period', 'wave direction', and the assimilation surface 'Dynamic Correction'\n",
    "3. Specify the years to extract : **Default=1979**.   Use the slider to set the range of years.  The year range is inclusive.\n",
    "4. Filename fo download: **Default='data.csv'**.  This will be a csv file with one point per column and time in the first column. The user can either use the links to the file in the bottom left UI panel below, or download the file from the file browser on the left side of the webpage. \n",
    "\n",
    "Then, click the Submit button.\n",
    "<hr>"
   ]
  },
  {
   "cell_type": "markdown",
   "id": "ffeb57f9-cd2d-466b-b0fc-e8d05ff9c581",
   "metadata": {},
   "source": [
    "### Import/exec the interface package"
   ]
  },
  {
   "cell_type": "code",
   "execution_count": 1,
   "id": "28b856d9",
   "metadata": {},
   "outputs": [
    {
     "ename": "SyntaxError",
     "evalue": "invalid syntax (reAnalysisInterface.py, line 239)",
     "output_type": "error",
     "traceback": [
      "Traceback \u001b[0;36m(most recent call last)\u001b[0m:\n",
      "  File \u001b[1;32m~/kernels/reanalysis3.8/lib/python3.8/site-packages/IPython/core/interactiveshell.py:3398\u001b[0m in \u001b[1;35mrun_code\u001b[0m\n    exec(code_obj, self.user_global_ns, self.user_ns)\n",
      "\u001b[0;36m  Input \u001b[0;32mIn [1]\u001b[0;36m in \u001b[0;35m<cell line: 1>\u001b[0;36m\u001b[0m\n\u001b[0;31m    from reAnalysisInterface import demoInterface\u001b[0m\n",
      "\u001b[0;36m  File \u001b[0;32m~/GitHub/RENCI/EDSReanalysis/reAnalysisInterface.py:239\u001b[0;36m\u001b[0m\n\u001b[0;31m    filename=filename,...\u001b[0m\n\u001b[0m    ^\u001b[0m\n\u001b[0;31mSyntaxError\u001b[0m\u001b[0;31m:\u001b[0m invalid syntax\n"
     ]
    }
   ],
   "source": [
    "from reAnalysisInterface import demoInterface\n",
    "d = demoInterface()"
   ]
  },
  {
   "cell_type": "code",
   "execution_count": null,
   "id": "d8754894",
   "metadata": {},
   "outputs": [],
   "source": [
    "# Access DataFrame of data extracted for stations, outside of widgets\n",
    "#print(d.df_product_data.head())\n",
    "import matplotlib.pyplot as plt\n",
    "fig,ax1 = plt.subplots(figsize=(25,10), dpi=144, nrows=d.df_product_data.shape[1], ncols=1, sharex=True)\n",
    "if d.df_product_data.shape[1]>1:\n",
    "    for i,p in enumerate(d.df_product_data.columns):\n",
    "        d.df_product_data[p].plot(ax=ax1[i],label=f'{d.var_selector.value} at {p}')\n",
    "        ax1[i].set_title(f'{d.var_selector.value} at {p}')\n",
    "        ax1[i].grid(True)\n",
    "        ax1[i].legend()\n",
    "else:\n",
    "        p=d.df_product_data.columns[0]\n",
    "        d.df_product_data[p].plot(ax=ax1,label=f'{d.var_selector.value} at {p}')\n",
    "        ax1.set_title(f'{d.var_selector.value} at {p}')\n",
    "        ax1.grid(True)\n",
    "        ax1.legend()"
   ]
  },
  {
   "cell_type": "code",
   "execution_count": null,
   "id": "0afb620a-35ae-40e9-8a96-07a40f269a60",
   "metadata": {},
   "outputs": [],
   "source": []
  }
 ],
 "metadata": {
  "kernelspec": {
   "display_name": "reanalysis3.8",
   "language": "python",
   "name": "reanalysis3.8"
  },
  "language_info": {
   "codemirror_mode": {
    "name": "ipython",
    "version": 3
   },
   "file_extension": ".py",
   "mimetype": "text/x-python",
   "name": "python",
   "nbconvert_exporter": "python",
   "pygments_lexer": "ipython3",
   "version": "3.8.10"
  }
 },
 "nbformat": 4,
 "nbformat_minor": 5
}
