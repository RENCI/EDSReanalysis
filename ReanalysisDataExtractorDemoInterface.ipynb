{
 "cells": [
  {
   "cell_type": "markdown",
   "id": "ed5d0726-35dd-4df2-9741-60c566f67de3",
   "metadata": {},
   "source": [
    "<center><img src=\"RENCI-Official-Logo-transparent.png\" width=400 height=100 />"
   ]
  },
  {
   "cell_type": "markdown",
   "id": "488d3352-cca5-4c29-9dc7-47b1ced02274",
   "metadata": {
    "tags": []
   },
   "source": [
    "<font size=\"5\">\n",
    "    <center>\n",
    "Timeseries Extraction Demonstration Notebook from the RENCI/NOAA 43-year reanalysis\n",
    "    \n",
    "        Version 0.1, 24 Aug 2022\n",
    "    Written by Jim McManus, Jeff Tilson, and Brian Blanton, RENCI\n",
    "    Funded by NOAA\n",
    "</font>"
   ]
  },
  {
   "cell_type": "markdown",
   "id": "63520f1d-5024-475c-bf7d-314092c6ab1f",
   "metadata": {},
   "source": [
    "<font size=\"4\">\n",
    "\n",
    "The Renaissance Computing Institute, in collaboration with NOAA's ..., is computing a high-resolution coastal reanalysis dataset using the ADCIRC storm surge, wind-wave, and tide model, and the ECMWF's ERA5 atmospheric reanalisys, spanning the period 1979-2021.  The resulting datasets are in the native ADCIRC/netCDF format, which can complicate working with the large datasets due to the triangular grid used by ADCIRC.  This notebook demostrates the use of a Python package that provides easy access to the datasets for water level and bulk wind wave parameters at user-specified lon/lat points. \n",
    "</font>"
   ]
  },
  {
   "cell_type": "markdown",
   "id": "8811f988-7d71-462a-8209-0bfc886d07ac",
   "metadata": {},
   "source": [
    "## User inputs\n",
    "The demonstration needs 3 inputs from the user, specified in the box below.\n",
    "1. Upload a csv file of lon, lat coordinates, with a header line that names the coordinate columns with \"lon\" and \"lat\".  The order does not matter. There are 4 example/test files in the testdata directory.\n",
    " * **NOAA_Stations_141.csv** contains 141 NOAA stations.  \n",
    " * **hsofs_200grid_lonlat.csv** contains a random selection of 200 nodes from the NOAA HSOFS ADCIRC grid.\n",
    " * **1point.csv** contains 1 point\n",
    " * **hsofs_2grid_lonlat.csv** contains 2 points, one \"on land\" and the other in water.  The process for the first point will result in all NaNs for the returned timeseries.\n",
    "2. Specify the variable to extract from the Reanalysis dataset.  The currently available variables are 'water level', 'wave height', 'wave period', 'wave direction'\n",
    "3. Specify the years to extract using the slider.  The year range is inclusive.\n",
    "\n",
    "Then, click the Submit button."
   ]
  },
  {
   "cell_type": "markdown",
   "id": "ffeb57f9-cd2d-466b-b0fc-e8d05ff9c581",
   "metadata": {},
   "source": [
    "### import the interface package and execute the interface class"
   ]
  },
  {
   "cell_type": "code",
   "execution_count": 1,
   "id": "28b856d9",
   "metadata": {},
   "outputs": [
    {
     "data": {
      "application/vnd.jupyter.widget-view+json": {
       "model_id": "0810982e1be2452fb17245197063e854",
       "version_major": 2,
       "version_minor": 0
      },
      "text/plain": [
       "HTML(value='\\n            <style>\\n                /* enlarges the default jupyter cell outputs, can revert by…"
      ]
     },
     "metadata": {},
     "output_type": "display_data"
    },
    {
     "data": {
      "application/vnd.jupyter.widget-view+json": {
       "model_id": "b98bbe135c7e41cba9db4a4756df9de9",
       "version_major": 2,
       "version_minor": 0
      },
      "text/plain": [
       "VBox(children=(Output(layout=Layout(width='500px')), HBox(children=(Output(_dom_classes=('o2',)), Output(_dom_…"
      ]
     },
     "metadata": {},
     "output_type": "display_data"
    }
   ],
   "source": [
    "# import the interface package and execute the interface class\n",
    "from reAnalysisInterface import demoInterface\n",
    "d = demoInterface()"
   ]
  },
  {
   "cell_type": "code",
   "execution_count": 2,
   "id": "4859d73c",
   "metadata": {},
   "outputs": [
    {
     "data": {
      "text/html": [
       "<div>\n",
       "<style scoped>\n",
       "    .dataframe tbody tr th:only-of-type {\n",
       "        vertical-align: middle;\n",
       "    }\n",
       "\n",
       "    .dataframe tbody tr th {\n",
       "        vertical-align: top;\n",
       "    }\n",
       "\n",
       "    .dataframe thead th {\n",
       "        text-align: right;\n",
       "    }\n",
       "</style>\n",
       "<table border=\"1\" class=\"dataframe\">\n",
       "  <thead>\n",
       "    <tr style=\"text-align: right;\">\n",
       "      <th></th>\n",
       "      <th>P1</th>\n",
       "      <th>P2</th>\n",
       "    </tr>\n",
       "  </thead>\n",
       "  <tbody>\n",
       "    <tr>\n",
       "      <th>1979-01-01 01:00:00</th>\n",
       "      <td>NaN</td>\n",
       "      <td>0.819854</td>\n",
       "    </tr>\n",
       "    <tr>\n",
       "      <th>1979-01-01 02:00:00</th>\n",
       "      <td>NaN</td>\n",
       "      <td>0.808856</td>\n",
       "    </tr>\n",
       "    <tr>\n",
       "      <th>1979-01-01 03:00:00</th>\n",
       "      <td>NaN</td>\n",
       "      <td>0.636194</td>\n",
       "    </tr>\n",
       "    <tr>\n",
       "      <th>1979-01-01 04:00:00</th>\n",
       "      <td>NaN</td>\n",
       "      <td>0.232287</td>\n",
       "    </tr>\n",
       "    <tr>\n",
       "      <th>1979-01-01 05:00:00</th>\n",
       "      <td>NaN</td>\n",
       "      <td>-0.190031</td>\n",
       "    </tr>\n",
       "  </tbody>\n",
       "</table>\n",
       "</div>"
      ],
      "text/plain": [
       "                     P1        P2\n",
       "1979-01-01 01:00:00 NaN  0.819854\n",
       "1979-01-01 02:00:00 NaN  0.808856\n",
       "1979-01-01 03:00:00 NaN  0.636194\n",
       "1979-01-01 04:00:00 NaN  0.232287\n",
       "1979-01-01 05:00:00 NaN -0.190031"
      ]
     },
     "execution_count": 2,
     "metadata": {},
     "output_type": "execute_result"
    }
   ],
   "source": [
    "d.df_product_data.head()"
   ]
  },
  {
   "cell_type": "code",
   "execution_count": 3,
   "id": "9347c7c8",
   "metadata": {},
   "outputs": [
    {
     "data": {
      "text/html": [
       "<div>\n",
       "<style scoped>\n",
       "    .dataframe tbody tr th:only-of-type {\n",
       "        vertical-align: middle;\n",
       "    }\n",
       "\n",
       "    .dataframe tbody tr th {\n",
       "        vertical-align: top;\n",
       "    }\n",
       "\n",
       "    .dataframe thead th {\n",
       "        text-align: right;\n",
       "    }\n",
       "</style>\n",
       "<table border=\"1\" class=\"dataframe\">\n",
       "  <thead>\n",
       "    <tr style=\"text-align: right;\">\n",
       "      <th></th>\n",
       "      <th>LON</th>\n",
       "      <th>LAT</th>\n",
       "      <th>ELE+1</th>\n",
       "    </tr>\n",
       "    <tr>\n",
       "      <th>GEOPOINT</th>\n",
       "      <th></th>\n",
       "      <th></th>\n",
       "      <th></th>\n",
       "    </tr>\n",
       "  </thead>\n",
       "  <tbody>\n",
       "    <tr>\n",
       "      <th>P1</th>\n",
       "      <td>-91.816161</td>\n",
       "      <td>30.943519</td>\n",
       "      <td>10512</td>\n",
       "    </tr>\n",
       "    <tr>\n",
       "      <th>P2</th>\n",
       "      <td>-79.672516</td>\n",
       "      <td>32.859652</td>\n",
       "      <td>2646751</td>\n",
       "    </tr>\n",
       "    <tr>\n",
       "      <th>P1</th>\n",
       "      <td>-91.816161</td>\n",
       "      <td>30.943519</td>\n",
       "      <td>10512</td>\n",
       "    </tr>\n",
       "    <tr>\n",
       "      <th>P2</th>\n",
       "      <td>-79.672516</td>\n",
       "      <td>32.859652</td>\n",
       "      <td>2646751</td>\n",
       "    </tr>\n",
       "  </tbody>\n",
       "</table>\n",
       "</div>"
      ],
      "text/plain": [
       "                LON        LAT    ELE+1\n",
       "GEOPOINT                               \n",
       "P1       -91.816161  30.943519    10512\n",
       "P2       -79.672516  32.859652  2646751\n",
       "P1       -91.816161  30.943519    10512\n",
       "P2       -79.672516  32.859652  2646751"
      ]
     },
     "execution_count": 3,
     "metadata": {},
     "output_type": "execute_result"
    }
   ],
   "source": [
    "d.df_product_metadata.head()"
   ]
  },
  {
   "cell_type": "code",
   "execution_count": 4,
   "id": "b0714415",
   "metadata": {},
   "outputs": [
    {
     "data": {
      "text/html": [
       "<div>\n",
       "<style scoped>\n",
       "    .dataframe tbody tr th:only-of-type {\n",
       "        vertical-align: middle;\n",
       "    }\n",
       "\n",
       "    .dataframe tbody tr th {\n",
       "        vertical-align: top;\n",
       "    }\n",
       "\n",
       "    .dataframe thead th {\n",
       "        text-align: right;\n",
       "    }\n",
       "</style>\n",
       "<table border=\"1\" class=\"dataframe\">\n",
       "  <thead>\n",
       "    <tr style=\"text-align: right;\">\n",
       "      <th></th>\n",
       "      <th>lon</th>\n",
       "      <th>lat</th>\n",
       "    </tr>\n",
       "  </thead>\n",
       "  <tbody>\n",
       "  </tbody>\n",
       "</table>\n",
       "</div>"
      ],
      "text/plain": [
       "Empty DataFrame\n",
       "Columns: [lon, lat]\n",
       "Index: []"
      ]
     },
     "execution_count": 4,
     "metadata": {},
     "output_type": "execute_result"
    }
   ],
   "source": [
    "d.df_excluded.head()"
   ]
  },
  {
   "cell_type": "code",
   "execution_count": 5,
   "id": "637acc71",
   "metadata": {},
   "outputs": [
    {
     "data": {
      "text/plain": [
       "DatetimeIndex(['1979-01-01 01:00:00', '1979-01-01 02:00:00',\n",
       "               '1979-01-01 03:00:00', '1979-01-01 04:00:00',\n",
       "               '1979-01-01 05:00:00', '1979-01-01 06:00:00',\n",
       "               '1979-01-01 07:00:00', '1979-01-01 08:00:00',\n",
       "               '1979-01-01 09:00:00', '1979-01-01 10:00:00',\n",
       "               ...\n",
       "               '1980-12-31 15:00:00', '1980-12-31 16:00:00',\n",
       "               '1980-12-31 17:00:00', '1980-12-31 18:00:00',\n",
       "               '1980-12-31 19:00:00', '1980-12-31 20:00:00',\n",
       "               '1980-12-31 21:00:00', '1980-12-31 22:00:00',\n",
       "               '1980-12-31 23:00:00', '1981-01-01 00:00:00'],\n",
       "              dtype='datetime64[ns]', length=17568, freq=None)"
      ]
     },
     "execution_count": 5,
     "metadata": {},
     "output_type": "execute_result"
    }
   ],
   "source": [
    "d.df_product_data.index"
   ]
  },
  {
   "cell_type": "code",
   "execution_count": null,
   "id": "fe5a69f3",
   "metadata": {},
   "outputs": [],
   "source": []
  }
 ],
 "metadata": {
  "kernelspec": {
   "display_name": "Python 3 (ipykernel)",
   "language": "python",
   "name": "python3"
  },
  "language_info": {
   "codemirror_mode": {
    "name": "ipython",
    "version": 3
   },
   "file_extension": ".py",
   "mimetype": "text/x-python",
   "name": "python",
   "nbconvert_exporter": "python",
   "pygments_lexer": "ipython3",
   "version": "3.8.13"
  }
 },
 "nbformat": 4,
 "nbformat_minor": 5
}
